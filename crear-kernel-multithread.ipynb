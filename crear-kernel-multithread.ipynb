{
 "cells": [
  {
   "cell_type": "markdown",
   "id": "600ea9b2",
   "metadata": {},
   "source": [
    "Esta notebook muestra como instalar un kernel multithread. Para más info ver [https://github.com/JuliaLang/IJulia.jl/issues/882](https://github.com/JuliaLang/IJulia.jl/issues/882)."
   ]
  },
  {
   "cell_type": "code",
   "execution_count": null,
   "id": "9ba897b9",
   "metadata": {},
   "outputs": [],
   "source": [
    "using IJulia\n",
    "N=10\n",
    "#IJulia.installkernel(\"Julia \"*str(N)*\" threads\",env=Dict(\"JULIA_NUM_THREADS\" => string(N),))"
   ]
  }
 ],
 "metadata": {
  "kernelspec": {
   "display_name": "Julia 1.9.1",
   "language": "julia",
   "name": "julia-1.9"
  },
  "language_info": {
   "file_extension": ".jl",
   "mimetype": "application/julia",
   "name": "julia",
   "version": "1.9.1"
  }
 },
 "nbformat": 4,
 "nbformat_minor": 5
}
