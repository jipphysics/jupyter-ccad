{
 "cells": [
  {
   "cell_type": "markdown",
   "id": "600ea9b2",
   "metadata": {},
   "source": [
    "Esta notebook muestra como instalar un kernel multithread. Para más info ver: \n",
    "\n",
    "* [https://julialang.github.io/IJulia.jl/stable/library/public/](https://julialang.github.io/IJulia.jl/stable/library/public/)\n",
    "\n",
    "* [https://github.com/JuliaLang/IJulia.jl/issues/882](https://github.com/JuliaLang/IJulia.jl/issues/882)\n",
    "\n",
    "* [https://stackoverflow.com/questions/63476972/julia-how-do-you-list-kernels-installed-with-installkernel](https://stackoverflow.com/questions/63476972/julia-how-do-you-list-kernels-installed-with-installkernel)\n",
    "\n",
    "* [https://stackoverflow.com/questions/42635310/remove-kernel-on-jupyter-notebook](https://stackoverflow.com/questions/42635310/remove-kernel-on-jupyter-notebook)"
   ]
  },
  {
   "cell_type": "code",
   "execution_count": null,
   "id": "9ba897b9",
   "metadata": {},
   "outputs": [],
   "source": [
    "using IJulia\n",
    "N=10\n",
    "#IJulia.installkernel(\"Julia \"*str(N)*\" threads\",env=Dict(\"JULIA_NUM_THREADS\" => string(N),))"
   ]
  },
  {
   "cell_type": "code",
   "execution_count": null,
   "id": "e1db3b86",
   "metadata": {},
   "outputs": [],
   "source": [
    "?IJulia.installkernel"
   ]
  },
  {
   "cell_type": "code",
   "execution_count": null,
   "id": "218c91fd",
   "metadata": {},
   "outputs": [],
   "source": [
    "IJulia.kerneldir()"
   ]
  },
  {
   "cell_type": "code",
   "execution_count": null,
   "id": "b5fd94a8",
   "metadata": {},
   "outputs": [],
   "source": [
    "readdir(IJulia.kerneldir(),join=true)"
   ]
  },
  {
   "cell_type": "code",
   "execution_count": null,
   "id": "fbe55a19",
   "metadata": {
    "scrolled": true
   },
   "outputs": [],
   "source": [
    "run(`jupyter kernelspec list`)"
   ]
  },
  {
   "cell_type": "raw",
   "id": "f5c439ed",
   "metadata": {},
   "source": [
    "run(`jupyter kernelspec remove julia-10-threads-1.9`)"
   ]
  },
  {
   "cell_type": "raw",
   "id": "6f01dd60",
   "metadata": {},
   "source": [
    "rm(\"/home/jperotti/.local/share/jupyter/kernels/julia-10-threads-1.9\",recursive=true)"
   ]
  }
 ],
 "metadata": {
  "kernelspec": {
   "display_name": "Julia 1.9.1",
   "language": "julia",
   "name": "julia-1.9"
  },
  "language_info": {
   "file_extension": ".jl",
   "mimetype": "application/julia",
   "name": "julia",
   "version": "1.9.1"
  }
 },
 "nbformat": 4,
 "nbformat_minor": 5
}
