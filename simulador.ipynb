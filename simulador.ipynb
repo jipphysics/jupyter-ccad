{
 "cells": [
  {
   "cell_type": "markdown",
   "id": "279f4f93",
   "metadata": {},
   "source": [
    "# Sistema de EDO de Rössler\n",
    "\n",
    "En 1970, el químico biológico alemán [Otto Rössler](https://en.wikipedia.org/wiki/Otto_R%C3%B6ssler) \n",
    "\n",
    "![](https://upload.wikimedia.org/wikipedia/commons/thumb/e/e0/Otto_E._R%C3%B6ssler_at_transmediale.08.jpg/234px-Otto_E._R%C3%B6ssler_at_transmediale.08.jpg)\n",
    "\n",
    "introduce el siguiente sistema de tres ecuaciones diferenciales ordinarias acopladas:\n",
    "\n",
    "\\begin{align}\n",
    "y'_1(t) &= -y_2(t) -y_3(t) \\\\\n",
    "y'_2(t) &= y_1(t) \\, + \\, \\alpha \\,  y_2(t)\\\\\n",
    "y'_3(t) &=\\beta\\, +\\, y_3(t)\\, (y_1(t)\\,-\\,\\gamma)\n",
    "\\end{align}\n",
    "\n",
    "El interés de Rössler se originó en el estudio de **órbitas caóticas**."
   ]
  },
  {
   "cell_type": "raw",
   "id": "06bd63cf",
   "metadata": {},
   "source": [
    "import Pkg\n",
    "Pkg.add(\"Plots\")\n",
    "Pkg.add(\"LaTeXStrings\")\n",
    "Pkg.add(\"BenchmarkTools\")\n",
    "Pkg.add(\"Random\")\n",
    "Pkg.add(\"FileIO\")\n",
    "Pkg.add(\"JLD2\")\n",
    "Pkg.add(\"Dates\")"
   ]
  },
  {
   "cell_type": "code",
   "execution_count": 16,
   "id": "4b10dcbe",
   "metadata": {},
   "outputs": [],
   "source": [
    "using Plots\n",
    "using LaTeXStrings\n",
    "using BenchmarkTools\n",
    "using Random\n",
    "using FileIO\n",
    "using JLD2\n",
    "using Dates\n",
    "using Base.Threads # Para paralelizar con threads (hilos), i.e. paralelización dentro de un nodo."
   ]
  },
  {
   "cell_type": "code",
   "execution_count": 4,
   "id": "0c2051c7",
   "metadata": {},
   "outputs": [
    {
     "data": {
      "text/plain": [
       "10"
      ]
     },
     "execution_count": 4,
     "metadata": {},
     "output_type": "execute_result"
    }
   ],
   "source": [
    "# Vemos cuantos threads tenemos\n",
    "nthreads()"
   ]
  },
  {
   "cell_type": "code",
   "execution_count": 5,
   "id": "3e1f0b03",
   "metadata": {},
   "outputs": [
    {
     "data": {
      "text/plain": [
       "paso_rk4 (generic function with 1 method)"
      ]
     },
     "execution_count": 5,
     "metadata": {},
     "output_type": "execute_result"
    }
   ],
   "source": [
    "function paso_rk4(f,x,t,h)\n",
    "    k1 = h*f(x,t)\n",
    "    k2 = h*f(x+k1/2,t+h/2)\n",
    "    k3 = h*f(x+k2/2,t+h/2)\n",
    "    k4 = h*f(x+k3,t+h)\n",
    "    return x+(k1+2k2+2k3+k4)/6\n",
    "end"
   ]
  },
  {
   "cell_type": "code",
   "execution_count": 6,
   "id": "00098768",
   "metadata": {},
   "outputs": [
    {
     "data": {
      "text/plain": [
       "integrador_EDO! (generic function with 1 method)"
      ]
     },
     "execution_count": 6,
     "metadata": {},
     "output_type": "execute_result"
    }
   ],
   "source": [
    "function integrador_EDO!(method,f,vt,vx)\n",
    "    @assert size(vx)[1]>1\n",
    "    for s in 2:length(vt)\n",
    "        h = vt[s]-vt[s-1]\n",
    "        x = view(vx,:,s-1)\n",
    "        dx = view(vx,:,s)\n",
    "        method!(f!,dx,x,vt[s],h)\n",
    "    end\n",
    "    return vx\n",
    "end"
   ]
  },
  {
   "cell_type": "code",
   "execution_count": 7,
   "id": "be6f5dca",
   "metadata": {},
   "outputs": [
    {
     "data": {
      "text/plain": [
       "integrador_EDO! (generic function with 1 method)"
      ]
     },
     "execution_count": 7,
     "metadata": {},
     "output_type": "execute_result"
    }
   ],
   "source": [
    "function integrador_EDO!(paso,f,vt,vx)\n",
    "    for i in 2:length(vt)\n",
    "        vx[:,i] = paso(f,vx[:,i-1],vt[i-1],vt[i]-vt[i-1])         \n",
    "    end\n",
    "    return vx\n",
    "end"
   ]
  },
  {
   "cell_type": "code",
   "execution_count": 13,
   "id": "30fc9c39",
   "metadata": {},
   "outputs": [
    {
     "data": {
      "text/plain": [
       "simulador (generic function with 1 method)"
      ]
     },
     "execution_count": 13,
     "metadata": {},
     "output_type": "execute_result"
    }
   ],
   "source": [
    "function simulador(integrador!,num_muestras,parametros,vt)\n",
    "    vx = zeros(3,length(vt))\n",
    "    muestras = []    \n",
    "    for p in parametros\n",
    "        f_rossler(x,t) = [-x[2]-x[3],x[1]+p[1]*x[2],p[2]+x[3]*(x[1]-p[3])]\n",
    "        #for s in 1:num_muestras        \n",
    "        @threads for s in 1:num_muestras        \n",
    "            # seteamos la condición inicial\n",
    "            rand!(view(vx,:,1)) \n",
    "            vx[:,1] .*= 1e-1\n",
    "            # integramos\n",
    "            muestra = integrador_EDO!(paso_rk4,f_rossler,vt,vx)\n",
    "            # guardamos la muestra\n",
    "            push!(muestras,[p,vt,copy(muestra)]) # copiamos la muestra para grabarla\n",
    "        end\n",
    "    end\n",
    "    return muestras\n",
    "end"
   ]
  },
  {
   "cell_type": "code",
   "execution_count": 14,
   "id": "2a6e7d15",
   "metadata": {},
   "outputs": [
    {
     "data": {
      "text/plain": [
       "Dict{String, Any} with 1 entry:\n",
       "  \"simulador-muestras-2023… => Any[Any[(0.2, 0.2, 5.7), 0.0:0.1:10.0, [0.039233…"
      ]
     },
     "execution_count": 14,
     "metadata": {},
     "output_type": "execute_result"
    }
   ],
   "source": [
    "datos = Dict()\n",
    "try\n",
    "    # Usamos un diccionario pre-existente si existe\n",
    "    datos = load(\"simulador-datos.jld2\")\n",
    "catch\n",
    "    # sinó, usamos el vacío\n",
    "    println(\"Usando un diccionario vacío!\")\n",
    "end"
   ]
  },
  {
   "cell_type": "code",
   "execution_count": 15,
   "id": "213ec419",
   "metadata": {},
   "outputs": [
    {
     "ename": "LoadError",
     "evalue": "TaskFailedException\n\n\u001b[91m    nested task error: \u001b[39mInterruptException:\n    Stacktrace:\n      [1] \u001b[0m\u001b[1mArray\u001b[22m\n    \u001b[90m    @\u001b[39m \u001b[90m./\u001b[39m\u001b[90m\u001b[4mboot.jl:477\u001b[24m\u001b[39m\u001b[90m [inlined]\u001b[39m\n      [2] \u001b[0m\u001b[1mArray\u001b[22m\n    \u001b[90m    @\u001b[39m \u001b[90m./\u001b[39m\u001b[90m\u001b[4mboot.jl:486\u001b[24m\u001b[39m\u001b[90m [inlined]\u001b[39m\n      [3] \u001b[0m\u001b[1msimilar\u001b[22m\n    \u001b[90m    @\u001b[39m \u001b[90m./\u001b[39m\u001b[90m\u001b[4mabstractarray.jl:882\u001b[24m\u001b[39m\u001b[90m [inlined]\u001b[39m\n      [4] \u001b[0m\u001b[1msimilar\u001b[22m\n    \u001b[90m    @\u001b[39m \u001b[90m./\u001b[39m\u001b[90m\u001b[4mabstractarray.jl:881\u001b[24m\u001b[39m\u001b[90m [inlined]\u001b[39m\n      [5] \u001b[0m\u001b[1m_array_for\u001b[22m\n    \u001b[90m    @\u001b[39m \u001b[90m./\u001b[39m\u001b[90m\u001b[4marray.jl:671\u001b[24m\u001b[39m\u001b[90m [inlined]\u001b[39m\n      [6] \u001b[0m\u001b[1m_array_for\u001b[22m\n    \u001b[90m    @\u001b[39m \u001b[90m./\u001b[39m\u001b[90m\u001b[4marray.jl:674\u001b[24m\u001b[39m\u001b[90m [inlined]\u001b[39m\n      [7] \u001b[0m\u001b[1mvect\u001b[22m\n    \u001b[90m    @\u001b[39m \u001b[90m./\u001b[39m\u001b[90m\u001b[4marray.jl:126\u001b[24m\u001b[39m\u001b[90m [inlined]\u001b[39m\n      [8] \u001b[0m\u001b[1m(::var\"#f_rossler#5\"{Tuple{Float64, Float64, Float64}})\u001b[22m\u001b[0m\u001b[1m(\u001b[22m\u001b[90mx\u001b[39m::\u001b[0mVector\u001b[90m{Float64}\u001b[39m, \u001b[90mt\u001b[39m::\u001b[0mFloat64\u001b[0m\u001b[1m)\u001b[22m\n    \u001b[90m    @\u001b[39m \u001b[35mMain\u001b[39m \u001b[90m./\u001b[39m\u001b[90m\u001b[4mIn[13]:5\u001b[24m\u001b[39m\n      [9] \u001b[0m\u001b[1mpaso_rk4\u001b[22m\u001b[0m\u001b[1m(\u001b[22m\u001b[90mf\u001b[39m::\u001b[0mvar\"#f_rossler#5\"\u001b[90m{Tuple{Float64, Float64, Float64}}\u001b[39m, \u001b[90mx\u001b[39m::\u001b[0mVector\u001b[90m{Float64}\u001b[39m, \u001b[90mt\u001b[39m::\u001b[0mFloat64, \u001b[90mh\u001b[39m::\u001b[0mFloat64\u001b[0m\u001b[1m)\u001b[22m\n    \u001b[90m    @\u001b[39m \u001b[35mMain\u001b[39m \u001b[90m./\u001b[39m\u001b[90m\u001b[4mIn[5]:2\u001b[24m\u001b[39m\n     [10] \u001b[0m\u001b[1mintegrador_EDO!\u001b[22m\u001b[0m\u001b[1m(\u001b[22m\u001b[90mpaso\u001b[39m::\u001b[0mtypeof(paso_rk4), \u001b[90mf\u001b[39m::\u001b[0mFunction, \u001b[90mvt\u001b[39m::\u001b[0mStepRangeLen\u001b[90m{Float64, Base.TwicePrecision{Float64}, Base.TwicePrecision{Float64}, Int64}\u001b[39m, \u001b[90mvx\u001b[39m::\u001b[0mMatrix\u001b[90m{Float64}\u001b[39m\u001b[0m\u001b[1m)\u001b[22m\n    \u001b[90m    @\u001b[39m \u001b[35mMain\u001b[39m \u001b[90m./\u001b[39m\u001b[90m\u001b[4mIn[7]:3\u001b[24m\u001b[39m\n     [11] \u001b[0m\u001b[1mmacro expansion\u001b[22m\n    \u001b[90m    @\u001b[39m \u001b[90m./\u001b[39m\u001b[90m\u001b[4mIn[13]:12\u001b[24m\u001b[39m\u001b[90m [inlined]\u001b[39m\n     [12] \u001b[0m\u001b[1m(::var\"#30#threadsfor_fun#6\"{var\"#30#threadsfor_fun#4#7\"{StepRangeLen{Float64, Base.TwicePrecision{Float64}, Base.TwicePrecision{Float64}, Int64}, Vector{Any}, Matrix{Float64}, Tuple{Float64, Float64, Float64}, var\"#f_rossler#5\"{Tuple{Float64, Float64, Float64}}, UnitRange{Int64}}})\u001b[22m\u001b[0m\u001b[1m(\u001b[22m\u001b[90mtid\u001b[39m::\u001b[0mInt64; \u001b[90monethread\u001b[39m::\u001b[0mBool\u001b[0m\u001b[1m)\u001b[22m\n    \u001b[90m    @\u001b[39m \u001b[35mMain\u001b[39m \u001b[90m./\u001b[39m\u001b[90m\u001b[4mthreadingconstructs.jl:163\u001b[24m\u001b[39m\n     [13] \u001b[0m\u001b[1m#30#threadsfor_fun\u001b[22m\n    \u001b[90m    @\u001b[39m \u001b[90m./\u001b[39m\u001b[90m\u001b[4mthreadingconstructs.jl:130\u001b[24m\u001b[39m\u001b[90m [inlined]\u001b[39m\n     [14] \u001b[0m\u001b[1m(::Base.Threads.var\"#1#2\"{var\"#30#threadsfor_fun#6\"{var\"#30#threadsfor_fun#4#7\"{StepRangeLen{Float64, Base.TwicePrecision{Float64}, Base.TwicePrecision{Float64}, Int64}, Vector{Any}, Matrix{Float64}, Tuple{Float64, Float64, Float64}, var\"#f_rossler#5\"{Tuple{Float64, Float64, Float64}}, UnitRange{Int64}}}, Int64})\u001b[22m\u001b[0m\u001b[1m(\u001b[22m\u001b[0m\u001b[1m)\u001b[22m\n    \u001b[90m    @\u001b[39m \u001b[90mBase.Threads\u001b[39m \u001b[90m./\u001b[39m\u001b[90m\u001b[4mthreadingconstructs.jl:108\u001b[24m\u001b[39m",
     "output_type": "error",
     "traceback": [
      "TaskFailedException\n\n\u001b[91m    nested task error: \u001b[39mInterruptException:\n    Stacktrace:\n      [1] \u001b[0m\u001b[1mArray\u001b[22m\n    \u001b[90m    @\u001b[39m \u001b[90m./\u001b[39m\u001b[90m\u001b[4mboot.jl:477\u001b[24m\u001b[39m\u001b[90m [inlined]\u001b[39m\n      [2] \u001b[0m\u001b[1mArray\u001b[22m\n    \u001b[90m    @\u001b[39m \u001b[90m./\u001b[39m\u001b[90m\u001b[4mboot.jl:486\u001b[24m\u001b[39m\u001b[90m [inlined]\u001b[39m\n      [3] \u001b[0m\u001b[1msimilar\u001b[22m\n    \u001b[90m    @\u001b[39m \u001b[90m./\u001b[39m\u001b[90m\u001b[4mabstractarray.jl:882\u001b[24m\u001b[39m\u001b[90m [inlined]\u001b[39m\n      [4] \u001b[0m\u001b[1msimilar\u001b[22m\n    \u001b[90m    @\u001b[39m \u001b[90m./\u001b[39m\u001b[90m\u001b[4mabstractarray.jl:881\u001b[24m\u001b[39m\u001b[90m [inlined]\u001b[39m\n      [5] \u001b[0m\u001b[1m_array_for\u001b[22m\n    \u001b[90m    @\u001b[39m \u001b[90m./\u001b[39m\u001b[90m\u001b[4marray.jl:671\u001b[24m\u001b[39m\u001b[90m [inlined]\u001b[39m\n      [6] \u001b[0m\u001b[1m_array_for\u001b[22m\n    \u001b[90m    @\u001b[39m \u001b[90m./\u001b[39m\u001b[90m\u001b[4marray.jl:674\u001b[24m\u001b[39m\u001b[90m [inlined]\u001b[39m\n      [7] \u001b[0m\u001b[1mvect\u001b[22m\n    \u001b[90m    @\u001b[39m \u001b[90m./\u001b[39m\u001b[90m\u001b[4marray.jl:126\u001b[24m\u001b[39m\u001b[90m [inlined]\u001b[39m\n      [8] \u001b[0m\u001b[1m(::var\"#f_rossler#5\"{Tuple{Float64, Float64, Float64}})\u001b[22m\u001b[0m\u001b[1m(\u001b[22m\u001b[90mx\u001b[39m::\u001b[0mVector\u001b[90m{Float64}\u001b[39m, \u001b[90mt\u001b[39m::\u001b[0mFloat64\u001b[0m\u001b[1m)\u001b[22m\n    \u001b[90m    @\u001b[39m \u001b[35mMain\u001b[39m \u001b[90m./\u001b[39m\u001b[90m\u001b[4mIn[13]:5\u001b[24m\u001b[39m\n      [9] \u001b[0m\u001b[1mpaso_rk4\u001b[22m\u001b[0m\u001b[1m(\u001b[22m\u001b[90mf\u001b[39m::\u001b[0mvar\"#f_rossler#5\"\u001b[90m{Tuple{Float64, Float64, Float64}}\u001b[39m, \u001b[90mx\u001b[39m::\u001b[0mVector\u001b[90m{Float64}\u001b[39m, \u001b[90mt\u001b[39m::\u001b[0mFloat64, \u001b[90mh\u001b[39m::\u001b[0mFloat64\u001b[0m\u001b[1m)\u001b[22m\n    \u001b[90m    @\u001b[39m \u001b[35mMain\u001b[39m \u001b[90m./\u001b[39m\u001b[90m\u001b[4mIn[5]:2\u001b[24m\u001b[39m\n     [10] \u001b[0m\u001b[1mintegrador_EDO!\u001b[22m\u001b[0m\u001b[1m(\u001b[22m\u001b[90mpaso\u001b[39m::\u001b[0mtypeof(paso_rk4), \u001b[90mf\u001b[39m::\u001b[0mFunction, \u001b[90mvt\u001b[39m::\u001b[0mStepRangeLen\u001b[90m{Float64, Base.TwicePrecision{Float64}, Base.TwicePrecision{Float64}, Int64}\u001b[39m, \u001b[90mvx\u001b[39m::\u001b[0mMatrix\u001b[90m{Float64}\u001b[39m\u001b[0m\u001b[1m)\u001b[22m\n    \u001b[90m    @\u001b[39m \u001b[35mMain\u001b[39m \u001b[90m./\u001b[39m\u001b[90m\u001b[4mIn[7]:3\u001b[24m\u001b[39m\n     [11] \u001b[0m\u001b[1mmacro expansion\u001b[22m\n    \u001b[90m    @\u001b[39m \u001b[90m./\u001b[39m\u001b[90m\u001b[4mIn[13]:12\u001b[24m\u001b[39m\u001b[90m [inlined]\u001b[39m\n     [12] \u001b[0m\u001b[1m(::var\"#30#threadsfor_fun#6\"{var\"#30#threadsfor_fun#4#7\"{StepRangeLen{Float64, Base.TwicePrecision{Float64}, Base.TwicePrecision{Float64}, Int64}, Vector{Any}, Matrix{Float64}, Tuple{Float64, Float64, Float64}, var\"#f_rossler#5\"{Tuple{Float64, Float64, Float64}}, UnitRange{Int64}}})\u001b[22m\u001b[0m\u001b[1m(\u001b[22m\u001b[90mtid\u001b[39m::\u001b[0mInt64; \u001b[90monethread\u001b[39m::\u001b[0mBool\u001b[0m\u001b[1m)\u001b[22m\n    \u001b[90m    @\u001b[39m \u001b[35mMain\u001b[39m \u001b[90m./\u001b[39m\u001b[90m\u001b[4mthreadingconstructs.jl:163\u001b[24m\u001b[39m\n     [13] \u001b[0m\u001b[1m#30#threadsfor_fun\u001b[22m\n    \u001b[90m    @\u001b[39m \u001b[90m./\u001b[39m\u001b[90m\u001b[4mthreadingconstructs.jl:130\u001b[24m\u001b[39m\u001b[90m [inlined]\u001b[39m\n     [14] \u001b[0m\u001b[1m(::Base.Threads.var\"#1#2\"{var\"#30#threadsfor_fun#6\"{var\"#30#threadsfor_fun#4#7\"{StepRangeLen{Float64, Base.TwicePrecision{Float64}, Base.TwicePrecision{Float64}, Int64}, Vector{Any}, Matrix{Float64}, Tuple{Float64, Float64, Float64}, var\"#f_rossler#5\"{Tuple{Float64, Float64, Float64}}, UnitRange{Int64}}}, Int64})\u001b[22m\u001b[0m\u001b[1m(\u001b[22m\u001b[0m\u001b[1m)\u001b[22m\n    \u001b[90m    @\u001b[39m \u001b[90mBase.Threads\u001b[39m \u001b[90m./\u001b[39m\u001b[90m\u001b[4mthreadingconstructs.jl:108\u001b[24m\u001b[39m",
      "",
      "Stacktrace:",
      " [1] threading_run(fun::var\"#30#threadsfor_fun#6\"{var\"#30#threadsfor_fun#4#7\"{StepRangeLen{Float64, Base.TwicePrecision{Float64}, Base.TwicePrecision{Float64}, Int64}, Vector{Any}, Matrix{Float64}, Tuple{Float64, Float64, Float64}, var\"#f_rossler#5\"{Tuple{Float64, Float64, Float64}}, UnitRange{Int64}}}, static::Bool)",
      "   @ Base.Threads ./threadingconstructs.jl:120",
      " [2] macro expansion",
      "   @ ./threadingconstructs.jl:168 [inlined]",
      " [3] simulador(integrador!::Function, num_muestras::Int64, parametros::Matrix{Tuple{Float64, Float64, Float64}}, vt::StepRangeLen{Float64, Base.TwicePrecision{Float64}, Base.TwicePrecision{Float64}, Int64})",
      "   @ Main ./In[13]:7",
      " [4] top-level scope",
      "   @ In[15]:2"
     ]
    }
   ],
   "source": [
    "# Muestreamos 100 trayectorias para dos elecciones de los valores de los parametros.\n",
    "muestras = simulador(integrador_EDO!,1000,[(0.2,0.2,5.7) (0.1,0.1,14.0)],0.0:0.1:1000.0)"
   ]
  },
  {
   "cell_type": "code",
   "execution_count": null,
   "id": "f0f5278c",
   "metadata": {},
   "outputs": [],
   "source": [
    "# Guardamos los resultados de la nueva simulación usando la fecha y la hora como \"llave\"\n",
    "datos[\"simulador-muestras-\"*Dates.format(Dates.now(),\"yyyy-mm-dd-HH-MM-SS\")]=muestras"
   ]
  },
  {
   "cell_type": "code",
   "execution_count": null,
   "id": "f1d46ca9",
   "metadata": {},
   "outputs": [],
   "source": [
    "# Guardamos la nueva versión del diccionario para que los datos puedan ser analizados en otras notebooks.\n",
    "save(\"simulador-datos.jld2\",datos)"
   ]
  },
  {
   "cell_type": "code",
   "execution_count": null,
   "id": "82fcac31",
   "metadata": {},
   "outputs": [],
   "source": [
    "(a,b,c),vt,vx=muestras[2]"
   ]
  },
  {
   "cell_type": "code",
   "execution_count": null,
   "id": "9e0c8e4f",
   "metadata": {},
   "outputs": [],
   "source": [
    "plot()\n",
    "plot!(xlabel=L\"t\")\n",
    "plot!(vt,vx[1,:],label=L\"x(t)\")\n",
    "plot!(vt,vx[2,:],label=L\"y(t)\")\n",
    "plot!(vt,vx[3,:],label=L\"z(t)\")"
   ]
  },
  {
   "cell_type": "code",
   "execution_count": null,
   "id": "3ba61b5f",
   "metadata": {},
   "outputs": [],
   "source": []
  }
 ],
 "metadata": {
  "kernelspec": {
   "display_name": "Julia 10 Threads 1.9.1",
   "language": "julia",
   "name": "julia-10-threads-1.9"
  },
  "language_info": {
   "file_extension": ".jl",
   "mimetype": "application/julia",
   "name": "julia",
   "version": "1.9.1"
  }
 },
 "nbformat": 4,
 "nbformat_minor": 5
}
